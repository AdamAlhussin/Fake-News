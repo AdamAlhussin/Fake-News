{
 "cells": [
  {
   "cell_type": "markdown",
   "id": "2b482fb8",
   "metadata": {},
   "source": [
    "<h1 style=\"font-size:6rem;color:Red;text-align:center;\">Fake News</h1>"
   ]
  },
  {
   "cell_type": "markdown",
   "id": "1637203c",
   "metadata": {},
   "source": [
    "# Supervised Learning, Classification"
   ]
  },
  {
   "cell_type": "markdown",
   "id": "484f96af",
   "metadata": {},
   "source": [
    "## PassiveAggressiveClassifier"
   ]
  },
  {
   "cell_type": "code",
   "execution_count": null,
   "id": "616a7a0d",
   "metadata": {},
   "outputs": [],
   "source": [
    "import pandas as pd\n",
    "import numpy as np\n",
    "from sklearn.linear_model import PassiveAggressiveClassifier\n",
    "from sklearn.model_selection import train_test_split\n",
    "from sklearn.feature_extraction.text import TfidfVectorizer\n",
    "from sklearn.metrics import accuracy_score\n",
    "from sklearn.metrics import confusion_matrix"
   ]
  },
  {
   "attachments": {
    "pngtree-fake-news-tv-banner-illustration-png-image_4702125.png": {
     "image/png": "[encoded data removed]"
    }
   },
   "cell_type": "markdown",
   "id": "76482309",
   "metadata": {},
   "source": [
    "![pngtree-fake-news-tv-banner-illustration-png-image_4702125.png](attachment:pngtree-fake-news-tv-banner-illustration-png-image_4702125.png)"
   ]
  },
  {
   "cell_type": "markdown",
   "id": "571a7c8f",
   "metadata": {},
   "source": [
    "# Read data from csv file"
   ]
  },
  {
   "cell_type": "code",
   "execution_count": null,
   "id": "a44c3f5a",
   "metadata": {
    "scrolled": true
   },
   "outputs": [],
   "source": [
    "df=pd.read_csv('news.csv')\n",
    "df.head()"
   ]
  },
  {
   "cell_type": "markdown",
   "id": "fbab5651",
   "metadata": {},
   "source": [
    "# How many fake and real news"
   ]
  },
  {
   "cell_type": "code",
   "execution_count": null,
   "id": "5fa7990f",
   "metadata": {},
   "outputs": [],
   "source": [
    "df.label.value_counts()"
   ]
  },
  {
   "cell_type": "code",
   "execution_count": null,
   "id": "6c3c3368",
   "metadata": {},
   "outputs": [],
   "source": [
    "label=df.label\n",
    "label.head()"
   ]
  },
  {
   "cell_type": "code",
   "execution_count": null,
   "id": "d911b4aa",
   "metadata": {},
   "outputs": [],
   "source": [
    "df.isnull().sum()"
   ]
  },
  {
   "cell_type": "code",
   "execution_count": null,
   "id": "e519f5a1",
   "metadata": {},
   "outputs": [],
   "source": [
    "df['all']=df['title']+df['text']"
   ]
  },
  {
   "cell_type": "code",
   "execution_count": null,
   "id": "994fa7e0",
   "metadata": {},
   "outputs": [],
   "source": [
    "x=df.drop(columns='label',axis=(1))\n",
    "y=df['label']"
   ]
  },
  {
   "cell_type": "code",
   "execution_count": null,
   "id": "99fc7d90",
   "metadata": {},
   "outputs": [],
   "source": [
    "x.head()"
   ]
  },
  {
   "cell_type": "code",
   "execution_count": null,
   "id": "bc0119c9",
   "metadata": {},
   "outputs": [],
   "source": [
    "y.head()"
   ]
  },
  {
   "cell_type": "code",
   "execution_count": null,
   "id": "54042d21",
   "metadata": {},
   "outputs": [],
   "source": [
    "x=df['all'].values\n",
    "y=df['label'].values"
   ]
  },
  {
   "cell_type": "code",
   "execution_count": null,
   "id": "7fddc6e4",
   "metadata": {},
   "outputs": [],
   "source": [
    "y.shape"
   ]
  },
  {
   "cell_type": "markdown",
   "id": "77508161",
   "metadata": {},
   "source": [
    "# Data separation"
   ]
  },
  {
   "cell_type": "code",
   "execution_count": null,
   "id": "15f1c971",
   "metadata": {},
   "outputs": [],
   "source": [
    "x_train,x_test,y_train,y_test=train_test_split(x,y, test_size=0.2, random_state=1)"
   ]
  },
  {
   "cell_type": "markdown",
   "id": "4fc24308",
   "metadata": {},
   "source": [
    "# TfidfVectorizer"
   ]
  },
  {
   "cell_type": "code",
   "execution_count": null,
   "id": "1195a35d",
   "metadata": {},
   "outputs": [],
   "source": [
    "TfV=TfidfVectorizer(stop_words='english', max_df=0.7)"
   ]
  },
  {
   "cell_type": "code",
   "execution_count": null,
   "id": "02a873a4",
   "metadata": {},
   "outputs": [],
   "source": [
    "tfidf_train=TfV.fit_transform(x_train) \n",
    "tfidf_test=TfV.transform(x_test)"
   ]
  },
  {
   "cell_type": "code",
   "execution_count": null,
   "id": "3e992c87",
   "metadata": {},
   "outputs": [],
   "source": [
    "alg=PassiveAggressiveClassifier(max_iter=50)\n",
    "alg.fit(tfidf_train,y_train)"
   ]
  },
  {
   "cell_type": "markdown",
   "id": "90759548",
   "metadata": {},
   "source": [
    "# Accuracy"
   ]
  },
  {
   "cell_type": "code",
   "execution_count": null,
   "id": "894a77cd",
   "metadata": {},
   "outputs": [],
   "source": [
    "y_pred=alg.predict(tfidf_test)\n",
    "score=accuracy_score(y_test,y_pred)\n",
    "score"
   ]
  },
  {
   "cell_type": "markdown",
   "id": "20b8ee83",
   "metadata": {},
   "source": [
    "# Confusion_matrix"
   ]
  },
  {
   "cell_type": "code",
   "execution_count": null,
   "id": "453b22f2",
   "metadata": {},
   "outputs": [],
   "source": [
    "from sklearn.metrics import confusion_matrix\n",
    "cm = confusion_matrix(y_test, y_pred)\n",
    "cm"
   ]
  },
  {
   "cell_type": "markdown",
   "id": "37b5230c",
   "metadata": {},
   "source": [
    "# Plot the Data"
   ]
  },
  {
   "cell_type": "code",
   "execution_count": null,
   "id": "216040d1",
   "metadata": {},
   "outputs": [],
   "source": [
    "import matplotlib.pyplot as plt\n",
    "import seaborn as sn\n",
    "plt.figure(figsize=(7,5))\n",
    "sn.heatmap(cm, annot=True)\n",
    "plt.xlabel('Predicted')\n",
    "plt.ylabel('Truth')\n",
    "\n",
    "from sklearn.metrics import classification_report\n",
    "classification_report(y_test,y_pred)"
   ]
  }
 ],
 "metadata": {
  "kernelspec": {
   "display_name": "Python 3",
   "language": "python",
   "name": "python3"
  },
  "language_info": {
   "codemirror_mode": {
    "name": "ipython",
    "version": 3
   },
   "file_extension": ".py",
   "mimetype": "text/x-python",
   "name": "python",
   "nbconvert_exporter": "python",
   "pygments_lexer": "ipython3",
   "version": "3.8.8"
  },
  "varInspector": {
   "cols": {
    "lenName": 16,
    "lenType": 16,
    "lenVar": 40
   },
   "kernels_config": {
    "python": {
     "delete_cmd_postfix": "",
     "delete_cmd_prefix": "del ",
     "library": "var_list.py",
     "varRefreshCmd": "print(var_dic_list())"
    },
    "r": {
     "delete_cmd_postfix": ") ",
     "delete_cmd_prefix": "rm(",
     "library": "var_list.r",
     "varRefreshCmd": "cat(var_dic_list()) "
    }
   },
   "types_to_exclude": [
    "module",
    "function",
    "builtin_function_or_method",
    "instance",
    "_Feature"
   ],
   "window_display": false
  }
 },
 "nbformat": 4,
 "nbformat_minor": 5
}
